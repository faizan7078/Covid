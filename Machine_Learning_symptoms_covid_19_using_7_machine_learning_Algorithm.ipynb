{
  "nbformat": 4,
  "nbformat_minor": 0,
  "metadata": {
    "colab": {
      "name": "Machine Learning  : symptoms covid-19 using 7 machine learning Algorithm",
      "private_outputs": true,
      "provenance": [],
      "authorship_tag": "ABX9TyPIIdSRM5NfhH7Ycv+kTB/T",
      "include_colab_link": true
    },
    "kernelspec": {
      "name": "python3",
      "display_name": "Python 3"
    },
    "language_info": {
      "name": "python"
    }
  },
  "cells": [
    {
      "cell_type": "markdown",
      "metadata": {
        "id": "view-in-github",
        "colab_type": "text"
      },
      "source": [
        "<a href=\"https://colab.research.google.com/github/faizan7078/Covid/blob/main/Machine_Learning_symptoms_covid_19_using_7_machine_learning_Algorithm.ipynb\" target=\"_parent\"><img src=\"https://colab.research.google.com/assets/colab-badge.svg\" alt=\"Open In Colab\"/></a>"
      ]
    },
    {
      "cell_type": "code",
      "metadata": {
        "id": "K6nSljjKlRp5"
      },
      "source": [
        "pip install dataprep"
      ],
      "execution_count": null,
      "outputs": []
    },
    {
      "cell_type": "markdown",
      "metadata": {
        "id": "qp_biFdImYSn"
      },
      "source": [
        "**Import Libraries**"
      ]
    },
    {
      "cell_type": "code",
      "metadata": {
        "id": "qm5vSBdemWXP"
      },
      "source": [
        "import pandas as pd \n",
        "import numpy as np\n",
        "\n",
        "# data visualization library \n",
        "import matplotlib\n",
        "import matplotlib.pyplot as plt\n",
        "import seaborn as sns\n",
        "\n",
        "sns.set(context='notebook', style='darkgrid', palette='colorblind', font='sans-serif', font_scale=1, rc=None)\n",
        "matplotlib.rcParams['figure.figsize'] =[8,8]\n",
        "matplotlib.rcParams.update({'font.size': 15})\n",
        "matplotlib.rcParams['font.family'] = 'sans-serif'"
      ],
      "execution_count": null,
      "outputs": []
    },
    {
      "cell_type": "code",
      "metadata": {
        "id": "bNzOEWEzmWUo"
      },
      "source": [
        "# dataprep\n",
        "from dataprep.eda import *\n",
        "from dataprep.eda.missing import plot_missing\n",
        "from dataprep.eda import plot_correlation"
      ],
      "execution_count": null,
      "outputs": []
    },
    {
      "cell_type": "markdown",
      "metadata": {
        "id": "v-PsTxtwnZph"
      },
      "source": [
        "**data analysis**"
      ]
    },
    {
      "cell_type": "code",
      "metadata": {
        "id": "4GRqwoexmWOr"
      },
      "source": [
        "covid = pd.read_csv('Covid Dataset.csv')\n",
        "covid.head()"
      ],
      "execution_count": null,
      "outputs": []
    },
    {
      "cell_type": "code",
      "metadata": {
        "id": "g9QQpjujmWMr"
      },
      "source": [
        "covid.info()"
      ],
      "execution_count": null,
      "outputs": []
    },
    {
      "cell_type": "code",
      "metadata": {
        "id": "h2ElPfhFmWJs"
      },
      "source": [
        "covid.describe(include='all')"
      ],
      "execution_count": null,
      "outputs": []
    },
    {
      "cell_type": "code",
      "metadata": {
        "id": "4kWOMcxfmWHd"
      },
      "source": [
        "covid.describe(include='all').T"
      ],
      "execution_count": null,
      "outputs": []
    },
    {
      "cell_type": "code",
      "metadata": {
        "id": "MwfX_mR4mWCp"
      },
      "source": [
        "covid.columns"
      ],
      "execution_count": null,
      "outputs": []
    },
    {
      "cell_type": "markdown",
      "metadata": {
        "id": "TouMh8hrohdu"
      },
      "source": [
        "**finding missing value**"
      ]
    },
    {
      "cell_type": "code",
      "metadata": {
        "id": "ynUNMVDimWAO"
      },
      "source": [
        "plot_missing(covid)"
      ],
      "execution_count": null,
      "outputs": []
    },
    {
      "cell_type": "markdown",
      "metadata": {
        "id": "ymofxSkIo1P7"
      },
      "source": [
        "**create a table with data missing** "
      ]
    },
    {
      "cell_type": "code",
      "metadata": {
        "id": "JTWlJ25lmV7v"
      },
      "source": [
        " missing_values=covid.isnull().sum() \n",
        "\n",
        "percent_missing = covid.isnull().sum()/covid.shape[0]*100 \n",
        "\n",
        "value = {\n",
        "    'missing_values ':missing_values,\n",
        "    'percent_missing %':percent_missing  \n",
        "}\n",
        "frame=pd.DataFrame(value)\n",
        "frame"
      ],
      "execution_count": null,
      "outputs": []
    },
    {
      "cell_type": "markdown",
      "metadata": {
        "id": "xq709bLEpbYj"
      },
      "source": [
        "**data vizualisation**"
      ]
    },
    {
      "cell_type": "code",
      "metadata": {
        "id": "wxdut7wdmV34"
      },
      "source": [
        "sns.countplot(x='COVID-19',data=covid)"
      ],
      "execution_count": null,
      "outputs": []
    },
    {
      "cell_type": "code",
      "metadata": {
        "id": "IOUi6hC_mV0A"
      },
      "source": [
        "covid[\"COVID-19\"].value_counts().plot.pie(explode=[0.1,0.1],autopct='%1.1f%%',shadow=True)\n",
        "plt.title('number of cases');"
      ],
      "execution_count": null,
      "outputs": []
    },
    {
      "cell_type": "markdown",
      "metadata": {
        "id": "lxSF2mXipxRw"
      },
      "source": [
        "**Breathing Problem**"
      ]
    },
    {
      "cell_type": "code",
      "metadata": {
        "id": "k8xk59DbmVx5"
      },
      "source": [
        "sns.countplot(x='Breathing Problem',data=covid)"
      ],
      "execution_count": null,
      "outputs": []
    },
    {
      "cell_type": "code",
      "metadata": {
        "id": "NfOcstqGmVs_"
      },
      "source": [
        "sns.countplot(x='Breathing Problem',hue='COVID-19',data=covid)"
      ],
      "execution_count": null,
      "outputs": []
    },
    {
      "cell_type": "markdown",
      "metadata": {
        "id": "Vl5nlVcLqFDP"
      },
      "source": [
        "**Fever**"
      ]
    },
    {
      "cell_type": "code",
      "metadata": {
        "id": "dulb2bLImVq3"
      },
      "source": [
        "sns.countplot(x='Fever',hue='COVID-19',data=covid);"
      ],
      "execution_count": null,
      "outputs": []
    },
    {
      "cell_type": "markdown",
      "metadata": {
        "id": "MmKC-tkWqPhu"
      },
      "source": [
        "**Dry Cough**"
      ]
    },
    {
      "cell_type": "code",
      "metadata": {
        "id": "aKxpVuWUmVl6"
      },
      "source": [
        "sns.countplot(x='Dry Cough',hue='COVID-19',data=covid)"
      ],
      "execution_count": null,
      "outputs": []
    },
    {
      "cell_type": "markdown",
      "metadata": {
        "id": "4CNBpC7bqb9n"
      },
      "source": [
        "**Sore throat**"
      ]
    },
    {
      "cell_type": "code",
      "metadata": {
        "id": "LGQN8Dm1mVj-"
      },
      "source": [
        "sns.countplot(x='Sore throat',hue='COVID-19',data=covid)"
      ],
      "execution_count": null,
      "outputs": []
    },
    {
      "cell_type": "markdown",
      "metadata": {
        "id": "E2hIY2Npq2yl"
      },
      "source": [
        "**Feature Transformation**"
      ]
    },
    {
      "cell_type": "code",
      "metadata": {
        "id": "oDdVwdssmVe_"
      },
      "source": [
        "from sklearn.preprocessing import LabelEncoder\n",
        "e=LabelEncoder()"
      ],
      "execution_count": null,
      "outputs": []
    },
    {
      "cell_type": "code",
      "metadata": {
        "id": "SlOJw-90mVc_"
      },
      "source": [
        "\n",
        "covid['Breathing Problem']=e.fit_transform(covid['Breathing Problem'])\n",
        "covid['Fever']=e.fit_transform(covid['Fever'])\n",
        "covid['Dry Cough']=e.fit_transform(covid['Dry Cough'])\n",
        "covid['Sore throat']=e.fit_transform(covid['Sore throat'])\n",
        "covid['Running Nose']=e.fit_transform(covid['Running Nose'])\n",
        "covid['Asthma']=e.fit_transform(covid['Asthma'])\n",
        "covid['Chronic Lung Disease']=e.fit_transform(covid['Chronic Lung Disease'])\n",
        "covid['Headache']=e.fit_transform(covid['Headache'])\n",
        "covid['Heart Disease']=e.fit_transform(covid['Heart Disease'])\n",
        "covid['Diabetes']=e.fit_transform(covid['Diabetes'])\n",
        "covid['Hyper Tension']=e.fit_transform(covid['Hyper Tension'])\n",
        "covid['Abroad travel']=e.fit_transform(covid['Abroad travel'])\n",
        "covid['Contact with COVID Patient']=e.fit_transform(covid['Contact with COVID Patient'])\n",
        "covid['Attended Large Gathering']=e.fit_transform(covid['Attended Large Gathering'])\n",
        "covid['Visited Public Exposed Places']=e.fit_transform(covid['Visited Public Exposed Places'])\n",
        "covid['Family working in Public Exposed Places']=e.fit_transform(covid['Family working in Public Exposed Places'])\n",
        "covid['Wearing Masks']=e.fit_transform(covid['Wearing Masks'])\n",
        "covid['Sanitization from Market']=e.fit_transform(covid['Sanitization from Market'])\n",
        "covid['COVID-19']=e.fit_transform(covid['COVID-19'])\n",
        "covid['Dry Cough']=e.fit_transform(covid['Dry Cough'])\n",
        "covid['Sore throat']=e.fit_transform(covid['Sore throat'])\n",
        "covid['Gastrointestinal ']=e.fit_transform(covid['Gastrointestinal '])\n",
        "covid['Fatigue ']=e.fit_transform(covid['Fatigue '])"
      ],
      "execution_count": null,
      "outputs": []
    },
    {
      "cell_type": "code",
      "metadata": {
        "id": "TIYep725mVYe"
      },
      "source": [
        "covid.head()"
      ],
      "execution_count": null,
      "outputs": []
    },
    {
      "cell_type": "code",
      "metadata": {
        "id": "dOHk97QxmVWc"
      },
      "source": [
        "covid.dtypes.value_counts()"
      ],
      "execution_count": null,
      "outputs": []
    },
    {
      "cell_type": "markdown",
      "metadata": {
        "id": "nydbL7kJr7xz"
      },
      "source": [
        "**info about our data after transformation**"
      ]
    },
    {
      "cell_type": "code",
      "metadata": {
        "id": "35OSFkCNmVSF"
      },
      "source": [
        "covid.describe(include='all')"
      ],
      "execution_count": null,
      "outputs": []
    },
    {
      "cell_type": "code",
      "metadata": {
        "id": "usftGJSAmVPU"
      },
      "source": [
        "covid.hist(figsize=(20,15));"
      ],
      "execution_count": null,
      "outputs": []
    },
    {
      "cell_type": "markdown",
      "metadata": {
        "id": "78GPScntsMPr"
      },
      "source": [
        "**correlation betwenn features**"
      ]
    },
    {
      "cell_type": "code",
      "metadata": {
        "id": "HNqvBoDEmVJy"
      },
      "source": [
        "corr=covid.corr()\n",
        "corr.style.background_gradient(cmap='coolwarm',axis=None)"
      ],
      "execution_count": null,
      "outputs": []
    },
    {
      "cell_type": "markdown",
      "metadata": {
        "id": "q1JPuHC_slu9"
      },
      "source": [
        "\n",
        "**feature selection** \n"
      ]
    },
    {
      "cell_type": "code",
      "metadata": {
        "id": "95tHJP6HmVH6"
      },
      "source": [
        "covid=covid.drop('Running Nose',axis=1)\n",
        "covid=covid.drop('Chronic Lung Disease',axis=1)\n",
        "covid=covid.drop('Headache',axis=1)\n",
        "covid=covid.drop('Heart Disease',axis=1)\n",
        "covid=covid.drop('Diabetes',axis=1)\n",
        "covid=covid.drop('Gastrointestinal ',axis=1)\n",
        "covid=covid.drop('Wearing Masks',axis=1)\n",
        "covid=covid.drop('Sanitization from Market',axis=1)\n",
        "covid=covid.drop('Asthma',axis=1)"
      ],
      "execution_count": null,
      "outputs": []
    },
    {
      "cell_type": "code",
      "metadata": {
        "id": "siN2zwh2mVDH"
      },
      "source": [
        "covid=covid.drop('Fatigue ',axis=1)"
      ],
      "execution_count": null,
      "outputs": []
    },
    {
      "cell_type": "code",
      "metadata": {
        "id": "742o3d_UmVBG"
      },
      "source": [
        "corr=covid.corr()\n",
        "corr.style.background_gradient(cmap='coolwarm',axis=None)"
      ],
      "execution_count": null,
      "outputs": []
    },
    {
      "cell_type": "markdown",
      "metadata": {
        "id": "dq3VXOCytWA4"
      },
      "source": [
        "**machine learning algo**"
      ]
    },
    {
      "cell_type": "code",
      "metadata": {
        "id": "fQXZjuAymU8k"
      },
      "source": [
        "from sklearn.model_selection import train_test_split\n",
        "from sklearn import metrics\n",
        "from sklearn.metrics import accuracy_score"
      ],
      "execution_count": null,
      "outputs": []
    },
    {
      "cell_type": "code",
      "metadata": {
        "id": "QmydllVDmU6V"
      },
      "source": [
        "x=covid.drop('COVID-19',axis=1)\n",
        "y=covid['COVID-19']"
      ],
      "execution_count": null,
      "outputs": []
    },
    {
      "cell_type": "code",
      "metadata": {
        "id": "yDnz4exBmU1u"
      },
      "source": [
        "x_train, x_test, y_train, y_test = train_test_split(x, y, test_size = 0.20)"
      ],
      "execution_count": null,
      "outputs": []
    },
    {
      "cell_type": "markdown",
      "metadata": {
        "id": "7Re-9j7ptp-8"
      },
      "source": [
        "**Logistic Regression**"
      ]
    },
    {
      "cell_type": "code",
      "metadata": {
        "id": "XYEzXMnnmUz5"
      },
      "source": [
        "from sklearn.linear_model import LogisticRegression\n",
        "model = LogisticRegression()\n",
        "#Fit the model\n",
        "model.fit(x_train, y_train)\n",
        "y_pred = model.predict(x_test)\n",
        "#Score/Accuracy\n",
        "acc_logreg=model.score(x_test, y_test)*100\n",
        "acc_logreg"
      ],
      "execution_count": null,
      "outputs": []
    },
    {
      "cell_type": "markdown",
      "metadata": {
        "id": "v8hJr5AOt4hA"
      },
      "source": [
        "**RandomForestRegressor**"
      ]
    },
    {
      "cell_type": "code",
      "metadata": {
        "id": "sCNkDD9LmUvM"
      },
      "source": [
        "#Train the model\n",
        "from sklearn.ensemble import RandomForestRegressor\n",
        "model = RandomForestRegressor(n_estimators=1000)\n",
        "#Fit\n",
        "model.fit(x_train, y_train)\n",
        "#Score/Accuracy\n",
        "acc_randomforest=model.score(x_test, y_test)*100\n",
        "acc_randomforest"
      ],
      "execution_count": null,
      "outputs": []
    },
    {
      "cell_type": "markdown",
      "metadata": {
        "id": "EP4XTM63uL_E"
      },
      "source": [
        "**GradientBoostingRegressor**"
      ]
    },
    {
      "cell_type": "code",
      "metadata": {
        "id": "cY0GkG4PmUtH"
      },
      "source": [
        "#Train the model\n",
        "from sklearn.ensemble import GradientBoostingRegressor\n",
        "GBR = GradientBoostingRegressor(n_estimators=100, max_depth=4)\n",
        "#Fit\n",
        "GBR.fit(x_train, y_train)\n",
        "acc_gbk=GBR.score(x_test, y_test)*100\n",
        "acc_gbk"
      ],
      "execution_count": null,
      "outputs": []
    },
    {
      "cell_type": "markdown",
      "metadata": {
        "id": "W3bNnY2EuYz1"
      },
      "source": [
        "**KNeighborsClassifier**"
      ]
    },
    {
      "cell_type": "code",
      "metadata": {
        "id": "GFyNC8gBmUpY"
      },
      "source": [
        "from sklearn.neighbors import KNeighborsClassifier\n",
        "knn = KNeighborsClassifier(n_neighbors=20)\n",
        "knn.fit(x_train, y_train)\n",
        "y_pred = knn.predict(x_test)\n",
        "#Score/Accuracy\n",
        "acc_knn=knn.score(x_test, y_test)*100\n",
        "acc_knn"
      ],
      "execution_count": null,
      "outputs": []
    },
    {
      "cell_type": "markdown",
      "metadata": {
        "id": "774l2yxGuyUC"
      },
      "source": [
        "**DecisionTreeClassifier**"
      ]
    },
    {
      "cell_type": "code",
      "metadata": {
        "id": "aUVfEXBmmUmQ"
      },
      "source": [
        "from sklearn import tree\n",
        "t = tree.DecisionTreeClassifier()\n",
        "t.fit(x_train,y_train)\n",
        "y_pred = t.predict(x_test)\n",
        "#Score/Accuracy\n",
        "acc_decisiontree=t.score(x_test, y_test)*100\n",
        "acc_decisiontree"
      ],
      "execution_count": null,
      "outputs": []
    },
    {
      "cell_type": "markdown",
      "metadata": {
        "id": "4WltcRwPu_JJ"
      },
      "source": [
        "**naive_bayes¶**"
      ]
    },
    {
      "cell_type": "code",
      "metadata": {
        "id": "sXC8GveAmUgu"
      },
      "source": [
        "from sklearn.naive_bayes import GaussianNB\n",
        "model = GaussianNB()\n",
        "model.fit(x_train,y_train)\n",
        "#Score/Accuracy\n",
        "acc_gaussian= model.score(x_test, y_test)*100\n",
        "acc_gaussian"
      ],
      "execution_count": null,
      "outputs": []
    },
    {
      "cell_type": "markdown",
      "metadata": {
        "id": "5a9j1iievSdY"
      },
      "source": [
        "**SVM**"
      ]
    },
    {
      "cell_type": "code",
      "metadata": {
        "id": "o04YAeHYmUfE"
      },
      "source": [
        "#Import svm model\n",
        "from sklearn import svm\n",
        "#Create a svm Classifier\n",
        "clf = svm.SVC(kernel='linear') # Linear Kernel\n",
        "#Train the model using the training sets\n",
        "clf.fit(x_train, y_train)\n",
        "#Predict the response for test dataset\n",
        "y_pred = clf.predict(x_test)\n",
        "#Score/Accuracy\n",
        "acc_svc=clf.score(x_test, y_test)*100\n",
        "acc_svc"
      ],
      "execution_count": null,
      "outputs": []
    },
    {
      "cell_type": "code",
      "metadata": {
        "id": "82i1RzO7mUZ6"
      },
      "source": [
        "models = pd.DataFrame({\n",
        "    'Model': ['Support Vector Machines', 'KNN', 'Logistic Regression', \n",
        "              'Random Forest', 'Naive Bayes',   \n",
        "              'Decision Tree', 'Gradient Boosting Classifier'],\n",
        "    'Score': [acc_svc, acc_knn, acc_logreg, \n",
        "              acc_randomforest, acc_gaussian, acc_decisiontree,\n",
        "               acc_gbk]})\n",
        "models.sort_values(by='Score', ascending=False)"
      ],
      "execution_count": null,
      "outputs": []
    },
    {
      "cell_type": "code",
      "metadata": {
        "id": "2H0T3lsamUYR"
      },
      "source": [
        ""
      ],
      "execution_count": null,
      "outputs": []
    },
    {
      "cell_type": "code",
      "metadata": {
        "id": "moorxC6ImUTj"
      },
      "source": [
        ""
      ],
      "execution_count": null,
      "outputs": []
    },
    {
      "cell_type": "code",
      "metadata": {
        "id": "TbpJ-GztmURk"
      },
      "source": [
        ""
      ],
      "execution_count": null,
      "outputs": []
    },
    {
      "cell_type": "code",
      "metadata": {
        "id": "uNO3RoLQmUOH"
      },
      "source": [
        ""
      ],
      "execution_count": null,
      "outputs": []
    },
    {
      "cell_type": "code",
      "metadata": {
        "id": "-THTOwt9mUKz"
      },
      "source": [
        ""
      ],
      "execution_count": null,
      "outputs": []
    },
    {
      "cell_type": "code",
      "metadata": {
        "id": "2VH9KCemmUF9"
      },
      "source": [
        ""
      ],
      "execution_count": null,
      "outputs": []
    },
    {
      "cell_type": "code",
      "metadata": {
        "id": "OE6DIGNQmUEB"
      },
      "source": [
        ""
      ],
      "execution_count": null,
      "outputs": []
    },
    {
      "cell_type": "code",
      "metadata": {
        "id": "oeWKdS-KmUBC"
      },
      "source": [
        ""
      ],
      "execution_count": null,
      "outputs": []
    },
    {
      "cell_type": "code",
      "metadata": {
        "id": "OppWoFnMmT9n"
      },
      "source": [
        ""
      ],
      "execution_count": null,
      "outputs": []
    },
    {
      "cell_type": "code",
      "metadata": {
        "id": "QmYGlZdTmT49"
      },
      "source": [
        ""
      ],
      "execution_count": null,
      "outputs": []
    },
    {
      "cell_type": "code",
      "metadata": {
        "id": "ui0yscvomT3I"
      },
      "source": [
        ""
      ],
      "execution_count": null,
      "outputs": []
    },
    {
      "cell_type": "code",
      "metadata": {
        "id": "PfttJg2OmTzA"
      },
      "source": [
        ""
      ],
      "execution_count": null,
      "outputs": []
    },
    {
      "cell_type": "code",
      "metadata": {
        "id": "3ofX2wJEmTwp"
      },
      "source": [
        ""
      ],
      "execution_count": null,
      "outputs": []
    }
  ]
}